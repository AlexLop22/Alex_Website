{
  "nbformat": 4,
  "nbformat_minor": 0,
  "metadata": {
    "colab": {
      "provenance": [],
      "authorship_tag": "ABX9TyOa64fjZOaJ7Wyp9jiOmAQ0",
      "include_colab_link": true
    },
    "kernelspec": {
      "name": "python3",
      "display_name": "Python 3"
    },
    "language_info": {
      "name": "python"
    }
  },
  "cells": [
    {
      "cell_type": "markdown",
      "metadata": {
        "id": "view-in-github",
        "colab_type": "text"
      },
      "source": [
        "<a href=\"https://colab.research.google.com/github/AlexLop22/Alex_Website/blob/main/Assignment_3.ipynb\" target=\"_parent\"><img src=\"https://colab.research.google.com/assets/colab-badge.svg\" alt=\"Open In Colab\"/></a>"
      ]
    },
    {
      "cell_type": "code",
      "execution_count": null,
      "metadata": {
        "colab": {
          "base_uri": "https://localhost:8080/",
          "height": 530
        },
        "id": "6o9N_A6LfEcY",
        "outputId": "7ff9b849-6d76-438a-faed-99e17b01ba00"
      },
      "outputs": [
        {
          "data": {
            "image/png": "[encoded data removed]",
            "text/plain": [
              "<Figure size 640x480 with 1 Axes>"
            ]
          },
          "metadata": {},
          "output_type": "display_data"
        },
        {
          "metadata": {
            "tags": null
          },
          "name": "stdout",
          "output_type": "stream",
          "text": [
            "Training Accuracy: 100.00%\n",
            "\n"
          ]
        }
      ],
      "source": [
        "import matplotlib.pyplot as plt\n",
        "\n",
        "# Function to plot data samples\n",
        "def plot_data_samples(class1, class2, thx, thy):\n",
        "    plt.scatter(*zip(*class1), color='blue', marker='o', label='Class C1')\n",
        "    plt.scatter(*zip(*class2), color='red', marker='s', label='Class C2')\n",
        "    plt.axvline(x=thx, color='green', linestyle='--', label=f'thx = {thx}')\n",
        "    plt.axhline(y=thy, color='purple', linestyle='--', label=f'thy = {thy}')\n",
        "    plt.xlabel('x')\n",
        "    plt.ylabel('y')\n",
        "    plt.legend()\n",
        "    plt.xlim(-1, 5)\n",
        "    plt.ylim(-1, 5)\n",
        "    plt.show()\n",
        "\n",
        "# Function to enter thresholds\n",
        "def enter_threshold(prompt):\n",
        "    while True:\n",
        "        try:\n",
        "            threshold = float(input(prompt))\n",
        "            return threshold\n",
        "        except ValueError:\n",
        "            print(\"Invalid input. Please enter a numeric value.\")\n",
        "\n",
        "# Function to classify data samples based on thresholds\n",
        "def classify_data(thx, thy, data):\n",
        "    class1 = []\n",
        "    class2 = []\n",
        "    for point in data:\n",
        "        if point[0] >= thx and point[1] >= thy:\n",
        "            class1.append(point)\n",
        "        else:\n",
        "            class2.append(point)\n",
        "    return class1, class2\n",
        "\n",
        "# Function to calculate accuracy\n",
        "def calculate_accuracy(thx, thy, data):\n",
        "    class1, class2 = classify_data(thx, thy, data)\n",
        "    total_samples = len(data)\n",
        "    correctly_classified = len(class1) + len(class2)\n",
        "    accuracy = correctly_classified / total_samples\n",
        "    return accuracy\n",
        "\n",
        "# Main loop\n",
        "while True:\n",
        "    # Input thresholds\n",
        "    thx = enter_threshold(\"Enter thx threshold (or 'x' to exit): \")\n",
        "    if thx == 'x':\n",
        "        break\n",
        "    thy = enter_threshold(\"Enter thy threshold (or 'x' to exit): \")\n",
        "    if thy == 'x':\n",
        "        break\n",
        "\n",
        "    # Data samples\n",
        "    data_samples_c1 = [(2, 3), (3, 3), (3, 4), (1, 4), (4, 1), (4, 3)]\n",
        "    data_samples_c2 = [(0, 0), (0, 3), (1, 1), (1, 2), (2, 1), (2, 2)]\n",
        "    all_data_samples = data_samples_c1 + data_samples_c2\n",
        "\n",
        "    # Plot data samples with thresholds\n",
        "    plot_data_samples(data_samples_c1, data_samples_c2, thx, thy)\n",
        "\n",
        "    # Calculate and print training accuracy\n",
        "    accuracy = calculate_accuracy(thx, thy, all_data_samples)\n",
        "    print(f\"Training Accuracy: {accuracy * 100:.2f}%\\n\")\n",
        "\n",
        "# End of the program\n",
        "print(\"Program exited.\")\n"
      ]
    }
  ]
}